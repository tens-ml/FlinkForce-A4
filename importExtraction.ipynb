{
 "cells": [
  {
   "cell_type": "markdown",
   "metadata": {},
   "source": [
    "# Dependency Extraction via include/import directive\n",
    "\n",
    "## Steps\n",
    "1. Recurse through each file of source, use the imports to determine dependency relations, generate TAs\n",
    "2. Save the extracted dependencies to a raw.ta file"
   ]
  },
  {
   "cell_type": "code",
   "execution_count": 1,
   "metadata": {},
   "outputs": [
    {
     "name": "stdout",
     "output_type": "stream",
     "text": [
      "Package Map (length & head(10))\n",
      "Size: 13194\n",
      "org.apache.flink.FlinkVersion -> .\\flink-1.17.1\\flink-annotations\\src\\main\\java\\org\\apache\\flink\\FlinkVersion.java\n",
      "org.apache.flink.annotation.Experimental -> .\\flink-1.17.1\\flink-annotations\\src\\main\\java\\org\\apache\\flink\\annotation\\Experimental.java\n",
      "org.apache.flink.annotation.Internal -> .\\flink-1.17.1\\flink-annotations\\src\\main\\java\\org\\apache\\flink\\annotation\\Internal.java\n",
      "org.apache.flink.annotation.Public -> .\\flink-1.17.1\\flink-annotations\\src\\main\\java\\org\\apache\\flink\\annotation\\Public.java\n",
      "org.apache.flink.annotation.PublicEvolving -> .\\flink-1.17.1\\flink-annotations\\src\\main\\java\\org\\apache\\flink\\annotation\\PublicEvolving.java\n",
      "org.apache.flink.annotation.VisibleForTesting -> .\\flink-1.17.1\\flink-annotations\\src\\main\\java\\org\\apache\\flink\\annotation\\VisibleForTesting.java\n",
      "org.apache.flink.annotation.docs.ConfigGroup -> .\\flink-1.17.1\\flink-annotations\\src\\main\\java\\org\\apache\\flink\\annotation\\docs\\ConfigGroup.java\n",
      "org.apache.flink.annotation.docs.ConfigGroups -> .\\flink-1.17.1\\flink-annotations\\src\\main\\java\\org\\apache\\flink\\annotation\\docs\\ConfigGroups.java\n",
      "org.apache.flink.annotation.docs.Documentation -> .\\flink-1.17.1\\flink-annotations\\src\\main\\java\\org\\apache\\flink\\annotation\\docs\\Documentation.java\n",
      "org.apache.flink.architecture.common.Conditions -> .\\flink-1.17.1\\flink-architecture-tests\\flink-architecture-tests-base\\src\\main\\java\\org\\apache\\flink\\architecture\\common\\Conditions.java\n"
     ]
    }
   ],
   "source": [
    "# Step 1: Walk through project and generate mapping of package->path:\n",
    "import os\n",
    "src = \".\\\\flink-1.17.1\"\n",
    "package_to_path_map = {}\n",
    "\n",
    "# walk path\n",
    "for dir_path, _, file_names in os.walk(src):\n",
    "    for file_name in file_names:\n",
    "        if file_name.endswith(\".java\"):\n",
    "            package = dir_path.split(\"\\\\java\\\\\")[-1].replace(\"\\\\\", \".\") + \".\" + file_name.replace(\".java\", \"\")\n",
    "            package_to_path_map[package] = dir_path + \"\\\\\" + file_name\n",
    "            \n",
    "print(\"Package Map (length & head(10))\")\n",
    "print(f\"Size: {len(package_to_path_map)}\")\n",
    "for k,v in list(package_to_path_map.items())[:10]:\n",
    "    print(k + \" -> \" + v)"
   ]
  },
  {
   "cell_type": "code",
   "execution_count": 6,
   "metadata": {},
   "outputs": [
    {
     "name": "stdout",
     "output_type": "stream",
     "text": [
      "flink-1.17.1/flink-annotations/src/main/java/org/apache/flink/FlinkVersion.java -> flink-1.17.1/flink-annotations/src/main/java/org/apache/flink/annotation/Public.java\n",
      "flink-1.17.1/flink-annotations/src/main/java/org/apache/flink/annotation/docs/ConfigGroup.java -> flink-1.17.1/flink-annotations/src/main/java/org/apache/flink/annotation/Internal.java\n",
      "flink-1.17.1/flink-annotations/src/main/java/org/apache/flink/annotation/docs/ConfigGroups.java -> flink-1.17.1/flink-annotations/src/main/java/org/apache/flink/annotation/Internal.java\n",
      "flink-1.17.1/flink-annotations/src/main/java/org/apache/flink/annotation/docs/Documentation.java -> flink-1.17.1/flink-annotations/src/main/java/org/apache/flink/annotation/Internal.java\n",
      "flink-1.17.1/flink-architecture-tests/flink-architecture-tests-production/src/main/java/org/apache/flink/architecture/ProductionCodeArchitectureBase.java -> flink-1.17.1/flink-architecture-tests/flink-architecture-tests-production/src/main/java/org/apache/flink/architecture/rules/ApiAnnotationRules.java\n",
      "flink-1.17.1/flink-architecture-tests/flink-architecture-tests-production/src/main/java/org/apache/flink/architecture/ProductionCodeArchitectureBase.java -> flink-1.17.1/flink-architecture-tests/flink-architecture-tests-production/src/main/java/org/apache/flink/architecture/rules/ConnectorRules.java\n",
      "flink-1.17.1/flink-architecture-tests/flink-architecture-tests-production/src/main/java/org/apache/flink/architecture/ProductionCodeArchitectureBase.java -> flink-1.17.1/flink-architecture-tests/flink-architecture-tests-production/src/main/java/org/apache/flink/architecture/rules/TableApiRules.java\n",
      "flink-1.17.1/flink-architecture-tests/flink-architecture-tests-production/src/main/java/org/apache/flink/architecture/rules/ApiAnnotationRules.java -> flink-1.17.1/flink-annotations/src/main/java/org/apache/flink/annotation/Experimental.java\n",
      "flink-1.17.1/flink-architecture-tests/flink-architecture-tests-production/src/main/java/org/apache/flink/architecture/rules/ApiAnnotationRules.java -> flink-1.17.1/flink-annotations/src/main/java/org/apache/flink/annotation/Internal.java\n",
      "flink-1.17.1/flink-architecture-tests/flink-architecture-tests-production/src/main/java/org/apache/flink/architecture/rules/ApiAnnotationRules.java -> flink-1.17.1/flink-annotations/src/main/java/org/apache/flink/annotation/Public.java\n",
      "flink-1.17.1/flink-architecture-tests/flink-architecture-tests-production/src/main/java/org/apache/flink/architecture/rules/ApiAnnotationRules.java -> flink-1.17.1/flink-annotations/src/main/java/org/apache/flink/annotation/PublicEvolving.java\n",
      "flink-1.17.1/flink-architecture-tests/flink-architecture-tests-production/src/main/java/org/apache/flink/architecture/rules/ApiAnnotationRules.java -> flink-1.17.1/flink-annotations/src/main/java/org/apache/flink/annotation/VisibleForTesting.java\n",
      "flink-1.17.1/flink-architecture-tests/flink-architecture-tests-production/src/main/java/org/apache/flink/architecture/rules/ConnectorRules.java -> flink-1.17.1/flink-annotations/src/main/java/org/apache/flink/annotation/Public.java\n",
      "flink-1.17.1/flink-architecture-tests/flink-architecture-tests-production/src/main/java/org/apache/flink/architecture/rules/ConnectorRules.java -> flink-1.17.1/flink-annotations/src/main/java/org/apache/flink/annotation/PublicEvolving.java\n",
      "flink-1.17.1/flink-architecture-tests/flink-architecture-tests-production/src/main/java/org/apache/flink/architecture/rules/TableApiRules.java -> flink-1.17.1/flink-annotations/src/main/java/org/apache/flink/annotation/Public.java\n",
      "Size: 85213\n"
     ]
    }
   ],
   "source": [
    "# Step 2: Generate dependencies\n",
    "dependencies = []\n",
    "\n",
    "def process_line(file_path, line):\n",
    "  # Example: \n",
    "  # line = import org.apache.flink.api.common.functions.MapFunction;\n",
    "  # first need to remove the ; at end and split by space\n",
    "  dependency = line.split(\" \")[1].strip().replace(\";\", \"\")\n",
    "\n",
    "  # now we can convert the package to a path and add the tuple to our list\n",
    "  dependency = package_to_path_map.get(dependency)\n",
    "  if dependency is None:\n",
    "    return\n",
    "  \n",
    "  dependencies.append((file_path[2:].replace(\"\\\\\", \"/\"), dependency[2:].replace(\"\\\\\", \"/\")))\n",
    "\n",
    "def process_file(file_path):\n",
    "  with open(file_path, \"r\", encoding=\"utf-8\") as f:\n",
    "    lines = f.readlines()\n",
    "    for line in lines:\n",
    "        if not line.startswith(\"import\") or not \"org.apache.flink\" in line:\n",
    "          continue\n",
    "\n",
    "        if \"static\" in line: \n",
    "          line = line.replace(\" static\", \"\")\n",
    "\n",
    "        process_line(file_path, line)\n",
    "\n",
    "\n",
    "def generate_dependencies():\n",
    "  for dir_path, _, file_names in os.walk(src):\n",
    "    for file_name in file_names:\n",
    "      if file_name.endswith(\".java\"):\n",
    "        process_file(dir_path + \"\\\\\" + file_name)\n",
    "\n",
    "\n",
    "generate_dependencies()\n",
    "limit = 15 \n",
    "\n",
    "# print out the dependencies to verify they are correct\n",
    "for file_path, dependency in dependencies:\n",
    "  print(file_path + \" -> \" + dependency)\n",
    "\n",
    "  limit -= 1\n",
    "  if limit == 0:\n",
    "    break\n",
    "\n",
    "print(f\"Size: {len(dependencies)}\")\n"
   ]
  },
  {
   "cell_type": "code",
   "execution_count": 7,
   "metadata": {},
   "outputs": [],
   "source": [
    "# Step 2: Generate the raw.ta file\n",
    "raw_ta_output = \"./source_raw_ta/import_dependencies.raw.ta\"\n",
    "\n",
    "with open(raw_ta_output, \"w+\") as f:\n",
    "  f.write(\"FACT TUPLE : \\n\")\n",
    "\n",
    "  unique_file_paths = set(file_path for file_path, _ in dependencies)\n",
    "\n",
    "  # first generate all the concrete instances\n",
    "  for file_path in unique_file_paths:\n",
    "    f.write(f\"$INSTANCE {file_path} cFile\\n\")\n",
    "\n",
    "  # now add in all the dependencies\n",
    "  for file_path, dependency in dependencies:\n",
    "    f.write(f\"cLinks {file_path} {dependency}\\n\")"
   ]
  }
 ],
 "metadata": {
  "kernelspec": {
   "display_name": "Python 3",
   "language": "python",
   "name": "python3"
  },
  "language_info": {
   "codemirror_mode": {
    "name": "ipython",
    "version": 3
   },
   "file_extension": ".py",
   "mimetype": "text/x-python",
   "name": "python",
   "nbconvert_exporter": "python",
   "pygments_lexer": "ipython3",
   "version": "3.10.11"
  },
  "orig_nbformat": 4
 },
 "nbformat": 4,
 "nbformat_minor": 2
}
