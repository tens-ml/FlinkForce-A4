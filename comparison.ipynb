{
 "cells": [
  {
   "cell_type": "markdown",
   "metadata": {},
   "source": [
    "# Dependency Extraction Comparison"
   ]
  },
  {
   "cell_type": "markdown",
   "metadata": {},
   "source": [
    "## Step 1: Compare raw.ta files"
   ]
  },
  {
   "cell_type": "code",
   "execution_count": null,
   "metadata": {},
   "outputs": [],
   "source": [
    "raw_ta_1 = \"./source_raw_ta/dependencies_1.raw.ta\"\n",
    "raw_ta_2 = \"./source_raw_ta/dependencies_2.raw.ta\"\n",
    "raw_ta_3 = \"./source_raw_ta/dependencies_3.raw.ta\"\n",
    "\n",
    "dependencies = {}\n",
    "\n",
    "def addDependency(dep, num):\n",
    "  if dep in dependencies:\n",
    "    dependencies[dep].append(num)\n",
    "  else:\n",
    "    dependencies[dep] = [num]\n",
    "\n",
    "with open(raw_ta_1, 'r') as file:\n",
    "  content = file.read()\n",
    "  content_lines = content.replace('\"', '').replace(\"\\\\\", \"/\").replace('java/org/apache', 'java/org/apache/flink').split('\\n')\n",
    "  for line in content_lines:\n",
    "    if \"cLinks\" in line:\n",
    "      addDependency(line, 1)\n",
    "\n",
    "with open(raw_ta_2, 'r') as file:\n",
    "  content = file.read()\n",
    "  content_lines = content.replace('\"', '').replace(\"\\\\\", \"/\").split('\\n')\n",
    "  for line in content_lines:\n",
    "    if \"cLinks\" in line:\n",
    "      addDependency(line, 2)\n",
    "\n",
    "with open(raw_ta_3, 'r') as file:\n",
    "  content = file.read()\n",
    "  content_lines = content.replace('\"', '').replace(\"\\\\\", \"/\").replace('./', '').split('\\n')\n",
    "  for line in content_lines:\n",
    "    if \"cLinks\" in line:\n",
    "      addDependency(line, 3)"
   ]
  },
  {
   "cell_type": "markdown",
   "metadata": {},
   "source": [
    "## Step 2: Generate venn diagram values"
   ]
  },
  {
   "cell_type": "code",
   "execution_count": 53,
   "metadata": {},
   "outputs": [
    {
     "name": "stdout",
     "output_type": "stream",
     "text": [
      "tech_1:  34055\n",
      "tech_2:  21505\n",
      "tech_3:  37996\n",
      "tech_12:  1036\n",
      "tech_13:  1065\n",
      "tech_23:  74899\n",
      "tech_123:  6309\n"
     ]
    }
   ],
   "source": [
    "tech_1 = 0\n",
    "tech_2 = 0\n",
    "tech_3 = 0\n",
    "tech_12 = 0\n",
    "tech_13 = 0\n",
    "tech_23 = 0\n",
    "tech_123 = 0\n",
    "\n",
    "dep_just_in_1 = []\n",
    "dep_just_in_2 = []\n",
    "dep_just_in_3 = []\n",
    "\n",
    "for dep in dependencies:\n",
    "  if 1 in dependencies[dep] and 2 in dependencies[dep] and 3 in dependencies[dep]:\n",
    "    tech_123 += 1\n",
    "  elif 1 in dependencies[dep] and 2 in dependencies[dep]:\n",
    "    tech_12 += 1\n",
    "  elif 1 in dependencies[dep] and 3 in dependencies[dep]:\n",
    "    tech_13 += 1\n",
    "  elif 2 in dependencies[dep] and 3 in dependencies[dep]:\n",
    "    tech_23 += 1\n",
    "  elif 1 in dependencies[dep]:\n",
    "    tech_1 += 1\n",
    "    dep_just_in_1.append(dep)\n",
    "  elif 2 in dependencies[dep]:\n",
    "    tech_2 += 1\n",
    "    dep_just_in_2.append(dep)\n",
    "  elif 3 in dependencies[dep]:\n",
    "    tech_3 += 1\n",
    "    dep_just_in_3.append(dep)\n",
    "  \n",
    "print(\"tech_1: \", tech_1)\n",
    "print(\"tech_2: \", tech_2)\n",
    "print(\"tech_3: \", tech_3)\n",
    "print(\"tech_12: \", tech_12)\n",
    "print(\"tech_13: \", tech_13)\n",
    "print(\"tech_23: \", tech_23)\n",
    "print(\"tech_123: \", tech_123)"
   ]
  },
  {
   "attachments": {
    "DependencyExtraction_VD.jpg": {
     "image/jpeg": "[encoded data removed]"
    }
   },
   "cell_type": "markdown",
   "metadata": {},
   "source": [
    "![DependencyExtraction_VD.jpg](attachment:DependencyExtraction_VD.jpg)"
   ]
  },
  {
   "cell_type": "markdown",
   "metadata": {},
   "source": [
    "## Step 3: Sample non overlapping"
   ]
  },
  {
   "cell_type": "code",
   "execution_count": 52,
   "metadata": {},
   "outputs": [],
   "source": [
    "import random\n",
    "\n",
    "output_1 = \"./output/sample_1.txt\"\n",
    "output_2 = \"./output/sample_2.txt\"\n",
    "output_3 = \"./output/sample_3.txt\"\n",
    "\n",
    "sample_amount_1 = 139\n",
    "sample_amount_2 = 88\n",
    "sample_amount_3 = 156\n",
    "\n",
    "sample_1 = random.sample(dep_just_in_1, sample_amount_1)\n",
    "sample_2 = random.sample(dep_just_in_2, sample_amount_2)\n",
    "sample_3 = random.sample(dep_just_in_3, sample_amount_3)\n",
    "\n",
    "with open(output_1, 'w') as txt_file:\n",
    "    for line in sample_1:\n",
    "        txt_file.write(\"\".join(line) + \"\\n\")\n",
    "\n",
    "with open(output_2, 'w') as txt_file:\n",
    "    for line in sample_2:\n",
    "        txt_file.write(\"\".join(line) + \"\\n\")\n",
    "\n",
    "with open(output_3, 'w') as txt_file:\n",
    "    for line in sample_3:\n",
    "        txt_file.write(\"\".join(line) + \"\\n\")\n"
   ]
  }
 ],
 "metadata": {
  "kernelspec": {
   "display_name": "Python 3",
   "language": "python",
   "name": "python3"
  },
  "language_info": {
   "codemirror_mode": {
    "name": "ipython",
    "version": 3
   },
   "file_extension": ".py",
   "mimetype": "text/x-python",
   "name": "python",
   "nbconvert_exporter": "python",
   "pygments_lexer": "ipython3",
   "version": "3.11.5"
  },
  "orig_nbformat": 4
 },
 "nbformat": 4,
 "nbformat_minor": 2
}
