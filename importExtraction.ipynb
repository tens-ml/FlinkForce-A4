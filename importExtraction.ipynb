{
 "cells": [
  {
   "cell_type": "markdown",
   "metadata": {},
   "source": [
    "# Dependency Extraction via include/import directive\n",
    "\n",
    "## Steps\n",
    "1. Recurse through each file of source, use the imports to determine dependency relations, generate TAs\n",
    "2. Save the extracted dependencies to a raw.ta file"
   ]
  },
  {
   "cell_type": "code",
   "execution_count": 6,
   "metadata": {},
   "outputs": [
    {
     "name": "stdout",
     "output_type": "stream",
     "text": [
      "flink-1.17.1/flink-annotations/src/main/java/org/apache/flink/FlinkVersion.java -> flink-1.17.1/flink-annotations/src/main/java/org/apache/flink/annotation/Public.java\n",
      "flink-1.17.1/flink-annotations/src/main/java/org/apache/flink/annotation/docs/ConfigGroup.java -> flink-1.17.1/flink-annotations/src/main/java/org/apache/flink/annotation/Internal.java\n",
      "flink-1.17.1/flink-annotations/src/main/java/org/apache/flink/annotation/docs/ConfigGroups.java -> flink-1.17.1/flink-annotations/src/main/java/org/apache/flink/annotation/Internal.java\n",
      "flink-1.17.1/flink-annotations/src/main/java/org/apache/flink/annotation/docs/Documentation.java -> flink-1.17.1/flink-annotations/src/main/java/org/apache/flink/annotation/Internal.java\n",
      "flink-1.17.1/flink-architecture-tests/flink-architecture-tests-base/src/main/java/org/apache/flink/architecture/common/Conditions.java -> flink-1.17.1/flink-architecture-tests/flink-architecture-tests-base/src/main/java/static.java\n",
      "flink-1.17.1/flink-architecture-tests/flink-architecture-tests-base/src/main/java/org/apache/flink/architecture/common/GivenJavaClasses.java -> flink-1.17.1/flink-architecture-tests/flink-architecture-tests-base/src/main/java/static.java\n",
      "flink-1.17.1/flink-architecture-tests/flink-architecture-tests-base/src/main/java/org/apache/flink/architecture/common/Predicates.java -> flink-1.17.1/flink-architecture-tests/flink-architecture-tests-base/src/main/java/static.java\n",
      "flink-1.17.1/flink-architecture-tests/flink-architecture-tests-base/src/main/java/org/apache/flink/architecture/common/Predicates.java -> flink-1.17.1/flink-architecture-tests/flink-architecture-tests-base/src/main/java/static.java\n",
      "flink-1.17.1/flink-architecture-tests/flink-architecture-tests-base/src/main/java/org/apache/flink/architecture/common/Predicates.java -> flink-1.17.1/flink-architecture-tests/flink-architecture-tests-base/src/main/java/static.java\n",
      "flink-1.17.1/flink-architecture-tests/flink-architecture-tests-base/src/main/java/org/apache/flink/architecture/common/Predicates.java -> flink-1.17.1/flink-architecture-tests/flink-architecture-tests-base/src/main/java/static.java\n",
      "flink-1.17.1/flink-architecture-tests/flink-architecture-tests-base/src/main/java/org/apache/flink/architecture/common/Predicates.java -> flink-1.17.1/flink-architecture-tests/flink-architecture-tests-base/src/main/java/static.java\n",
      "flink-1.17.1/flink-architecture-tests/flink-architecture-tests-base/src/main/java/org/apache/flink/architecture/common/Predicates.java -> flink-1.17.1/flink-architecture-tests/flink-architecture-tests-base/src/main/java/static.java\n",
      "flink-1.17.1/flink-architecture-tests/flink-architecture-tests-base/src/main/java/org/apache/flink/architecture/common/Predicates.java -> flink-1.17.1/flink-architecture-tests/flink-architecture-tests-base/src/main/java/static.java\n",
      "flink-1.17.1/flink-architecture-tests/flink-architecture-tests-production/src/main/java/org/apache/flink/architecture/ProductionCodeArchitectureBase.java -> flink-1.17.1/flink-architecture-tests/flink-architecture-tests-production/src/main/java/org/apache/flink/architecture/rules/ApiAnnotationRules.java\n",
      "flink-1.17.1/flink-architecture-tests/flink-architecture-tests-production/src/main/java/org/apache/flink/architecture/ProductionCodeArchitectureBase.java -> flink-1.17.1/flink-architecture-tests/flink-architecture-tests-production/src/main/java/org/apache/flink/architecture/rules/ConnectorRules.java\n",
      "Size: 101145\n"
     ]
    }
   ],
   "source": [
    "# Step 1: Generate dependencies\n",
    "import os\n",
    "\n",
    "src = \".\\\\flink-1.17.1\"\n",
    "dependencies = []\n",
    "\n",
    "def package_to_path(parent_module, package_name):\n",
    "  return parent_module + package_name.replace(\".\", \"\\\\\") + \".java\"\n",
    "\n",
    "def process_line(file_path, line):\n",
    "  # Example: \n",
    "  # line = import org.apache.flink.api.common.functions.MapFunction;\n",
    "  # first need to remove the ; at end and split by space\n",
    "  dependency = line.split(\" \")[1].strip().replace(\";\", \"\")\n",
    "\n",
    "  # Example:\n",
    "  # file_path = .\\flink-1.17.1\\flink-core\\src\\main\\java\\org\\apache\\flink\\api\\common\\functions\\MapFunction.java\n",
    "  # want to only get the parent directory up until /java/ at which point things will be scoped by package (org.apache.flink.*)\n",
    "  parent_module = file_path.split(\"\\\\java\\\\\")[0] + \"\\\\java\\\\\"\n",
    "\n",
    "  # now we can convert the package to a path and add the tuple to our list\n",
    "  dependency = package_to_path(parent_module, dependency)\n",
    "  dependencies.append((file_path[2:].replace(\"\\\\\", \"/\"), dependency[2:].replace(\"\\\\\", \"/\")))\n",
    "\n",
    "def process_file(file_path):\n",
    "  with open(file_path, \"r\", encoding=\"utf-8\") as f:\n",
    "    lines = f.readlines()\n",
    "    for line in lines:\n",
    "        if not line.startswith(\"import\") or not \"org.apache.flink\" in line:\n",
    "          continue\n",
    "\n",
    "        if \"static\" in line: \n",
    "          line.replace(\"static\", \"\")\n",
    "\n",
    "        process_line(file_path, line)\n",
    "\n",
    "\n",
    "def generate_dependencies():\n",
    "  for dir_path, _, file_names in os.walk(src):\n",
    "    for file_name in file_names:\n",
    "      if file_name.endswith(\".java\"):\n",
    "        process_file(dir_path + \"\\\\\" + file_name)\n",
    "\n",
    "\n",
    "generate_dependencies()\n",
    "limit = 15 \n",
    "\n",
    "# print out the dependencies to verify they are correct\n",
    "for file_path, dependency in dependencies:\n",
    "  print(file_path + \" -> \" + dependency)\n",
    "\n",
    "  limit -= 1\n",
    "  if limit == 0:\n",
    "    break\n",
    "\n",
    "print(f\"Size: {len(dependencies)}\")\n"
   ]
  },
  {
   "cell_type": "code",
   "execution_count": 7,
   "metadata": {},
   "outputs": [],
   "source": [
    "# Step 2: Generate the raw.ta file\n",
    "raw_ta_output = \"./source_raw_ta/import_dependencies.raw.ta\"\n",
    "\n",
    "with open(raw_ta_output, \"w+\") as f:\n",
    "  f.write(\"FACT TUPLE : \\n\")\n",
    "\n",
    "  unique_file_paths = set(file_path for file_path, _ in dependencies)\n",
    "\n",
    "  # first generate all the concrete instances\n",
    "  for file_path in unique_file_paths:\n",
    "    f.write(f\"$INSTANCE {file_path} cFile\\n\")\n",
    "\n",
    "  # now add in all the dependencies\n",
    "  for file_path, dependency in dependencies:\n",
    "    f.write(f\"cLinks {file_path} {dependency}\\n\")"
   ]
  }
 ],
 "metadata": {
  "kernelspec": {
   "display_name": "Python 3",
   "language": "python",
   "name": "python3"
  },
  "language_info": {
   "codemirror_mode": {
    "name": "ipython",
    "version": 3
   },
   "file_extension": ".py",
   "mimetype": "text/x-python",
   "name": "python",
   "nbconvert_exporter": "python",
   "pygments_lexer": "ipython3",
   "version": "3.10.11"
  },
  "orig_nbformat": 4
 },
 "nbformat": 4,
 "nbformat_minor": 2
}
