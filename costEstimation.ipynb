{
 "cells": [
  {
   "cell_type": "code",
   "execution_count": 7,
   "metadata": {},
   "outputs": [
    {
     "name": "stdout",
     "output_type": "stream",
     "text": [
      "Word count: 16147146\n",
      "Line count: 1475064\n",
      "Tokens: 10764764.0\n",
      "GPT4 Price: 645.8858399999999\n",
      "GPT3.5 Price: 10.764764\n",
      "Babbage Price: 5.382382\n"
     ]
    }
   ],
   "source": [
    "import os\n",
    "\n",
    "def process_file(file_path):\n",
    "  global word_count, line_count\n",
    "  with open(file_path, \"r\", encoding=\"utf-8\") as f:\n",
    "    lines = f.readlines()\n",
    "    for line in lines:\n",
    "      words = line.split(\" \")\n",
    "      word_count += len(words)\n",
    "      line_count += 1\n",
    "\n",
    "def get_resource_reqs():\n",
    "  for dir_path, _, file_names in os.walk(src):\n",
    "    for file_name in file_names:\n",
    "      if file_name.endswith(\".java\") and not \"\\\\test\\\\\" in dir_path:\n",
    "        process_file(dir_path + \"\\\\\" + file_name)\n",
    "\n",
    "src = \".\\\\flink-1.17.1\"\n",
    "word_count = 0\n",
    "line_count = 0\n",
    "words_per_token = 1.5\n",
    "gpt4_price_per_token = 0.06 / 1000\n",
    "gpt3_5_price_per_token = 0.0010 / 1000\n",
    "babbage_price_per_token = 0.0005  / 1000\n",
    "get_resource_reqs()\n",
    "\n",
    "print(\"Word count: \" + str(word_count)) \n",
    "print(\"Line count: \" + str(line_count))\n",
    "print(\"Tokens: \" + str(word_count / words_per_token))\n",
    "print(\"GPT4 Price: \" + str( (word_count / words_per_token) * gpt4_price_per_token))\n",
    "print(\"GPT3.5 Price: \" + str( (word_count / words_per_token) * gpt3_5_price_per_token))\n",
    "print(\"Babbage Price: \" + str( (word_count / words_per_token) * babbage_price_per_token))\n"
   ]
  }
 ],
 "metadata": {
  "kernelspec": {
   "display_name": "Python 3",
   "language": "python",
   "name": "python3"
  },
  "language_info": {
   "codemirror_mode": {
    "name": "ipython",
    "version": 3
   },
   "file_extension": ".py",
   "mimetype": "text/x-python",
   "name": "python",
   "nbconvert_exporter": "python",
   "pygments_lexer": "ipython3",
   "version": "3.10.11"
  }
 },
 "nbformat": 4,
 "nbformat_minor": 2
}
